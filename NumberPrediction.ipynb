{
  "nbformat": 4,
  "nbformat_minor": 0,
  "metadata": {
    "colab": {
      "provenance": []
    },
    "kernelspec": {
      "name": "python3",
      "display_name": "Python 3"
    },
    "language_info": {
      "name": "python"
    }
  },
  "cells": [
    {
      "cell_type": "markdown",
      "source": [
        "Regression"
      ],
      "metadata": {
        "id": "wsZ_7aNrZR0u"
      }
    },
    {
      "cell_type": "code",
      "execution_count": null,
      "metadata": {
        "id": "R-olEv4oZQCN"
      },
      "outputs": [],
      "source": [
        "from sklearn.datasets import load_digits\n",
        "from sklearn.model_selection import train_test_split\n",
        "import numpy as np\n",
        "import matplotlib.pyplot as plt\n",
        "import seaborn as sns\n",
        "from sklearn import metrics\n",
        "%matplotlib inline\n",
        "digits=load_digits()"
      ]
    },
    {
      "cell_type": "code",
      "source": [
        "#print('Image Data Shape', digits.target)\n",
        "#print(digits)\n",
        "#print('*********')\n",
        "#print(digits.data)\n",
        "#print(digits.frame)\n",
        "#print(digits.data.shape)\n",
        "#print('*******')\n",
        "#print(digits.target)\n",
        "#print('&&&&&&')\n",
        "#print(digits.data)\n",
        "#print('^^^^^^^')\n",
        "#print(digits.data[0:5])\n",
        "\n",
        "print(digits.target[6:10])\n",
        "print('data')\n",
        "print(digits.data[6])\n",
        "#print(digits)p\n",
        "#print(np.reshape)\n"
      ],
      "metadata": {
        "colab": {
          "base_uri": "https://localhost:8080/"
        },
        "id": "n-GmErcfbLll",
        "outputId": "e203d058-d0f1-44b7-e618-e46bd2fa2a2f"
      },
      "execution_count": null,
      "outputs": [
        {
          "output_type": "stream",
          "name": "stdout",
          "text": [
            "[6 7 8 9]\n",
            "data\n",
            "[ 0.  0.  0. 12. 13.  0.  0.  0.  0.  0.  5. 16.  8.  0.  0.  0.  0.  0.\n",
            " 13. 16.  3.  0.  0.  0.  0.  0. 14. 13.  0.  0.  0.  0.  0.  0. 15. 12.\n",
            "  7.  2.  0.  0.  0.  0. 13. 16. 13. 16.  3.  0.  0.  0.  7. 16. 11. 15.\n",
            "  8.  0.  0.  0.  1.  9. 15. 11.  3.  0.]\n"
          ]
        }
      ]
    },
    {
      "cell_type": "code",
      "source": [
        "import numpy as np\n",
        "import matplotlib.pyplot as plt\n",
        "plt.figure(figsize=(20,4))\n",
        "#for index, (image, label) in enumerate(zip(digits.data[0:5], digits.target[0:5])):\n",
        "for index, (image,label) in enumerate(zip(digits.data[6:10], digits.target[6:10])):\n",
        " plt.subplot(1,4,index+1)\n",
        " plt.imshow(np.reshape(image,(8,8)), cmap=plt.cm.gray)\n",
        " plt.title('Traning %i\\n' % label, fontsize=20)\n",
        "\n",
        "\n"
      ],
      "metadata": {
        "colab": {
          "base_uri": "https://localhost:8080/",
          "height": 308
        },
        "id": "6rtiXJVGexZw",
        "outputId": "6b8dd921-f610-4b56-8917-b348039e2a30"
      },
      "execution_count": null,
      "outputs": [
        {
          "output_type": "display_data",
          "data": {
            "text/plain": [
              "<Figure size 1440x288 with 4 Axes>"
            ],
            "image/png": "[encoded data removed]"
          },
          "metadata": {
            "needs_background": "light"
          }
        }
      ]
    },
    {
      "cell_type": "code",
      "source": [],
      "metadata": {
        "id": "oAiCMOylyKuM"
      },
      "execution_count": null,
      "outputs": []
    },
    {
      "cell_type": "markdown",
      "source": [
        "Split data set into training and testing data set\n",
        " "
      ],
      "metadata": {
        "id": "eow1k0u4tLva"
      }
    },
    {
      "cell_type": "code",
      "source": [
        "from sklearn.model_selection import train_test_split\n",
        "x_train,x_test,y_train,y_test = train_test_split(digits.data,digits.target,test_size=0.2,random_state=2)\n",
        "print(x_test)\n",
        "print(x_train)\n",
        "print('-------------')\n",
        "print(y_test)\n",
        "print(y_train)"
      ],
      "metadata": {
        "colab": {
          "base_uri": "https://localhost:8080/"
        },
        "id": "sE52HEH0tnwZ",
        "outputId": "210f6a26-5ca0-4b74-a801-4214a9ae6fb8"
      },
      "execution_count": null,
      "outputs": [
        {
          "output_type": "stream",
          "name": "stdout",
          "text": [
            "[[ 0.  0.  0. ...  0.  0.  0.]\n",
            " [ 0.  0.  1. ... 15.  1.  0.]\n",
            " [ 0.  0.  8. ... 13.  2.  0.]\n",
            " ...\n",
            " [ 0.  0.  3. ... 16.  2.  0.]\n",
            " [ 0.  0.  0. ...  0.  0.  0.]\n",
            " [ 0.  0.  4. ...  1.  0.  0.]]\n",
            "[[ 0.  0. 10. ... 16.  8.  0.]\n",
            " [ 0.  1. 12. ...  9.  4.  0.]\n",
            " [ 0.  4. 16. ... 16.  8.  0.]\n",
            " ...\n",
            " [ 0.  0.  0. ... 15.  4.  0.]\n",
            " [ 0.  0.  6. ... 16. 16. 12.]\n",
            " [ 0.  3. 14. ...  0.  0.  0.]]\n",
            "-------------\n",
            "[4 0 9 1 4 7 1 5 1 6 6 7 6 1 5 5 4 6 2 7 4 6 4 1 5 2 9 5 4 6 5 6 3 4 0 9 9\n",
            " 8 4 6 8 8 5 7 9 6 9 6 1 3 0 1 9 7 3 3 1 1 8 8 9 8 5 4 4 7 3 5 8 4 3 1 3 8\n",
            " 7 3 3 0 8 7 2 8 5 3 8 7 6 4 6 2 2 0 1 1 5 3 5 7 6 8 2 2 6 4 6 7 3 7 3 9 4\n",
            " 7 0 3 5 8 5 0 3 9 2 7 3 2 0 8 1 9 2 1 9 1 0 3 4 3 0 9 3 2 2 7 3 1 6 7 2 8\n",
            " 3 1 1 6 4 8 2 1 8 4 1 3 1 1 9 5 4 8 7 4 8 9 5 7 6 9 0 0 4 0 0 4 0 6 5 8 8\n",
            " 3 7 9 2 0 3 2 7 3 0 2 1 5 2 7 0 6 9 3 1 1 3 5 2 3 5 2 1 2 9 4 6 5 5 5 9 7\n",
            " 1 5 9 6 3 7 1 7 5 1 7 2 7 5 5 4 8 6 6 2 8 7 3 7 8 0 9 5 7 4 3 4 1 0 3 3 5\n",
            " 4 1 3 1 2 5 1 4 0 3 1 5 5 7 4 0 1 0 8 5 5 5 4 0 1 8 6 2 1 1 1 7 9 6 7 9 7\n",
            " 0 4 9 6 9 2 7 2 1 0 8 2 8 6 5 7 8 4 5 7 8 6 5 2 6 9 3 0 0 8 0 6 6 7 1 4 5\n",
            " 6 9 7 2 8 5 1 2 4 1 8 8 7 6 0 8 0 6 5 5 7 8 0 4 1 4 5]\n",
            "[9 2 2 ... 1 1 5]\n"
          ]
        }
      ]
    },
    {
      "cell_type": "markdown",
      "source": [
        "Impliment logistic regression - We have to call logistic regression "
      ],
      "metadata": {
        "id": "Hza74G41letI"
      }
    },
    {
      "cell_type": "code",
      "source": [
        "from sklearn.linear_model import LogisticRegression\n",
        "#log_model = LogisticRegression(solver='lbfgs', max_iter=1000)\n",
        "logisticR=LogisticRegression(solver='lbfgs', max_iter=10000)\n",
        "logisticR.fit(x_train,y_train)\n",
        "#predictions = logisticRegr.predict(x_test)"
      ],
      "metadata": {
        "colab": {
          "base_uri": "https://localhost:8080/"
        },
        "id": "8ZpARwwAlmGY",
        "outputId": "fbbb2cdd-31a6-468e-8b91-b4efb7b86c75"
      },
      "execution_count": null,
      "outputs": [
        {
          "output_type": "execute_result",
          "data": {
            "text/plain": [
              "LogisticRegression(max_iter=10000)"
            ]
          },
          "metadata": {},
          "execution_count": 6
        }
      ]
    },
    {
      "cell_type": "markdown",
      "source": [
        "Testing above train data set\n"
      ],
      "metadata": {
        "id": "kIdPD1Tmq8CS"
      }
    },
    {
      "cell_type": "code",
      "source": [
        "print(x_test[0])"
      ],
      "metadata": {
        "colab": {
          "base_uri": "https://localhost:8080/"
        },
        "id": "7i2BQM6JrsRZ",
        "outputId": "04ad9676-00f7-46cf-ecdf-9b914be65b43"
      },
      "execution_count": null,
      "outputs": [
        {
          "output_type": "stream",
          "name": "stdout",
          "text": [
            "[ 0.  0.  0.  3. 16.  3.  0.  0.  0.  0.  0. 10. 16. 11.  0.  0.  0.  0.\n",
            "  4. 16. 16.  8.  0.  0.  0.  2. 14. 12. 16.  5.  0.  0.  0. 10. 16. 14.\n",
            " 16. 16. 11.  0.  0.  5. 12. 13. 16.  8.  3.  0.  0.  0.  0.  2. 15.  3.\n",
            "  0.  0.  0.  0.  0.  4. 12.  0.  0.  0.]\n"
          ]
        }
      ]
    },
    {
      "cell_type": "code",
      "source": [
        "print(logisticR.predict(x_test[2].reshape(1,-1)))\n",
        "predictions=logisticR.predict(x_test)\n",
        "print('*****')\n",
        "print(y_test)\n",
        "print('*****')\n",
        "print(predictions)"
      ],
      "metadata": {
        "colab": {
          "base_uri": "https://localhost:8080/"
        },
        "id": "k7nOUQ27rB6h",
        "outputId": "fae1f331-3a76-49b0-e52b-8545d5ac8cbc"
      },
      "execution_count": null,
      "outputs": [
        {
          "output_type": "stream",
          "name": "stdout",
          "text": [
            "[9]\n",
            "*****\n",
            "[4 0 9 1 4 7 1 5 1 6 6 7 6 1 5 5 4 6 2 7 4 6 4 1 5 2 9 5 4 6 5 6 3 4 0 9 9\n",
            " 8 4 6 8 8 5 7 9 6 9 6 1 3 0 1 9 7 3 3 1 1 8 8 9 8 5 4 4 7 3 5 8 4 3 1 3 8\n",
            " 7 3 3 0 8 7 2 8 5 3 8 7 6 4 6 2 2 0 1 1 5 3 5 7 6 8 2 2 6 4 6 7 3 7 3 9 4\n",
            " 7 0 3 5 8 5 0 3 9 2 7 3 2 0 8 1 9 2 1 9 1 0 3 4 3 0 9 3 2 2 7 3 1 6 7 2 8\n",
            " 3 1 1 6 4 8 2 1 8 4 1 3 1 1 9 5 4 8 7 4 8 9 5 7 6 9 0 0 4 0 0 4 0 6 5 8 8\n",
            " 3 7 9 2 0 3 2 7 3 0 2 1 5 2 7 0 6 9 3 1 1 3 5 2 3 5 2 1 2 9 4 6 5 5 5 9 7\n",
            " 1 5 9 6 3 7 1 7 5 1 7 2 7 5 5 4 8 6 6 2 8 7 3 7 8 0 9 5 7 4 3 4 1 0 3 3 5\n",
            " 4 1 3 1 2 5 1 4 0 3 1 5 5 7 4 0 1 0 8 5 5 5 4 0 1 8 6 2 1 1 1 7 9 6 7 9 7\n",
            " 0 4 9 6 9 2 7 2 1 0 8 2 8 6 5 7 8 4 5 7 8 6 5 2 6 9 3 0 0 8 0 6 6 7 1 4 5\n",
            " 6 9 7 2 8 5 1 2 4 1 8 8 7 6 0 8 0 6 5 5 7 8 0 4 1 4 5]\n",
            "*****\n",
            "[4 0 9 1 8 7 1 5 1 6 6 7 6 1 5 5 8 6 2 7 4 6 4 1 5 2 9 5 4 6 5 6 3 4 0 9 9\n",
            " 8 4 6 8 8 5 7 9 8 9 6 1 7 0 1 9 7 3 3 1 8 8 8 9 8 5 8 4 9 7 5 8 4 3 9 3 8\n",
            " 7 3 3 0 8 7 2 8 5 3 8 7 6 4 6 2 2 0 1 1 5 3 5 7 1 8 2 2 6 4 6 7 3 7 3 9 4\n",
            " 7 0 3 5 4 5 0 3 9 2 7 3 2 0 8 1 9 2 1 5 1 0 3 4 3 0 8 3 2 2 7 3 1 6 7 2 8\n",
            " 3 1 1 6 4 8 2 1 8 4 1 3 1 1 9 5 4 8 7 4 8 9 5 7 6 9 4 0 4 0 0 9 0 6 5 8 8\n",
            " 3 7 9 2 0 3 2 7 3 0 2 1 9 2 7 0 6 9 3 3 1 3 5 2 8 5 2 1 2 9 4 6 5 5 5 9 7\n",
            " 1 5 9 6 3 7 1 7 5 1 7 2 7 5 5 4 8 6 6 2 8 7 3 7 8 0 9 5 7 4 3 4 1 0 3 3 5\n",
            " 4 1 3 1 2 5 1 4 0 3 1 5 5 7 4 0 1 0 9 5 5 5 4 0 1 8 6 2 1 1 1 7 9 6 7 9 7\n",
            " 0 4 9 6 9 2 7 2 1 0 8 2 8 6 5 7 8 4 5 7 8 6 4 2 6 9 3 0 0 8 0 6 6 7 1 4 5\n",
            " 6 9 7 2 8 5 1 2 4 1 8 8 7 6 0 8 0 6 1 5 7 8 0 4 1 4 5]\n"
          ]
        }
      ]
    },
    {
      "cell_type": "code",
      "source": [
        "import numpy as np\n",
        "import matplotlib.pyplot as plt\n",
        "plt.figure(figsize=(20,4))\n",
        "#for index, (image, label) in enumerate(zip(digits.data[0:5], digits.target[0:5])):\n",
        "for index, (image,label) in enumerate(zip(x_test[0:4], y_test[0:4])):\n",
        " plt.subplot(1,4,index+1)\n",
        " plt.imshow(np.reshape(image,(8,8)), cmap=plt.cm.gray)\n",
        " plt.title('Traning %i\\n' % label, fontsize=20)\n"
      ],
      "metadata": {
        "colab": {
          "base_uri": "https://localhost:8080/",
          "height": 308
        },
        "id": "NN6TtYk4boWC",
        "outputId": "2967f685-c35f-4d20-c832-797f4a5e793a"
      },
      "execution_count": null,
      "outputs": [
        {
          "output_type": "display_data",
          "data": {
            "text/plain": [
              "<Figure size 1440x288 with 4 Axes>"
            ],
            "image/png": "[encoded data removed]"
          },
          "metadata": {
            "needs_background": "light"
          }
        }
      ]
    },
    {
      "cell_type": "code",
      "source": [
        "print(logisticR.predict(x_test[2:7])) # prediction\n",
        "print(y_test[2:7]) #Actual"
      ],
      "metadata": {
        "colab": {
          "base_uri": "https://localhost:8080/"
        },
        "id": "CjGZx36bnVbO",
        "outputId": "074d5942-9e7e-4a9d-eb28-9c602ad2cae4"
      },
      "execution_count": null,
      "outputs": [
        {
          "output_type": "stream",
          "name": "stdout",
          "text": [
            "[9 1 8 7 1]\n",
            "[9 1 4 7 1]\n"
          ]
        }
      ]
    },
    {
      "cell_type": "markdown",
      "source": [
        "Check accuracy score\n"
      ],
      "metadata": {
        "id": "yLZvnFXspUUv"
      }
    },
    {
      "cell_type": "code",
      "source": [
        "score=logisticR.score(x_test,y_test)\n",
        "print(score)"
      ],
      "metadata": {
        "colab": {
          "base_uri": "https://localhost:8080/"
        },
        "id": "PxNZLrBJpXx2",
        "outputId": "9946f5d6-b9aa-44df-c0d8-4a5963bd1765"
      },
      "execution_count": null,
      "outputs": [
        {
          "output_type": "stream",
          "name": "stdout",
          "text": [
            "0.9416666666666667\n"
          ]
        }
      ]
    },
    {
      "cell_type": "markdown",
      "source": [
        "Create Confution matrix\n"
      ],
      "metadata": {
        "id": "uSLiUiI1tnJ_"
      }
    },
    {
      "cell_type": "code",
      "source": [
        "import matplotlib.pyplot as plt\n",
        "import seaborn as sns\n",
        "from sklearn import metrics # import metrix library in sklearn \n",
        "\n",
        "confutionM = metrics.confusion_matrix(y_test,predictions)\n",
        "print(confutionM)\n",
        "#tn,fp,fn,tp=metrics.confusion_matrix(y_test,predictions).ravel()\n",
        "#(tn,fp,fn,tp)\n"
      ],
      "metadata": {
        "colab": {
          "base_uri": "https://localhost:8080/"
        },
        "id": "kax-LOkItuEf",
        "outputId": "41b76f1c-a16c-4060-c462-226d646b1da4"
      },
      "execution_count": null,
      "outputs": [
        {
          "output_type": "stream",
          "name": "stdout",
          "text": [
            "[[31  0  0  0  1  0  0  0  0  0]\n",
            " [ 0 41  0  1  0  0  0  0  1  1]\n",
            " [ 0  0 31  0  0  0  0  0  0  0]\n",
            " [ 0  0  0 33  0  0  0  2  1  0]\n",
            " [ 0  0  0  0 31  0  0  0  3  1]\n",
            " [ 0  1  0  0  1 40  0  0  0  1]\n",
            " [ 0  1  0  0  0  0 33  0  1  0]\n",
            " [ 0  0  0  0  0  0  0 39  0  1]\n",
            " [ 0  0  0  0  1  0  0  0 34  1]\n",
            " [ 0  0  0  0  0  1  0  0  1 26]]\n"
          ]
        }
      ]
    },
    {
      "cell_type": "markdown",
      "source": [
        "heat map of confution metrix"
      ],
      "metadata": {
        "id": "1SqgPuBYx5-r"
      }
    },
    {
      "cell_type": "code",
      "source": [
        "plt.figure(figsize=(9,9))\n",
        "sns.heatmap(confutionM,annot=True,fmt=\".3f\",linewidths=.5,square=True,cmap='Blues_r')\n",
        "plt.ylabel('Actual label')\n",
        "plt.xlabel('prediction label')\n",
        "all_sample_title='Accuracy Score {0}'.format(score)\n",
        "plt.title(all_sample_title,size=15)\n",
        "\n",
        "#sns.heatmap(confutionM,annot=True,fmt=\"\",cmap='RdYlGn',linewidths=0.30)\n",
        "\n",
        "plt.show()\n",
        "\n",
        "\n"
      ],
      "metadata": {
        "colab": {
          "base_uri": "https://localhost:8080/",
          "height": 526
        },
        "id": "vEX98Gxcx_yb",
        "outputId": "6da92582-cf22-4dbd-d4d5-5ba28ad20c5c"
      },
      "execution_count": null,
      "outputs": [
        {
          "output_type": "display_data",
          "data": {
            "text/plain": [
              "<Figure size 648x648 with 2 Axes>"
            ],
            "image/png": "[encoded data removed]"
          },
          "metadata": {
            "needs_background": "light"
          }
        }
      ]
    }
  ]
}